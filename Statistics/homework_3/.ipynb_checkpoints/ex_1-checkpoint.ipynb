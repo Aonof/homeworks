{
 "cells": [
  {
   "cell_type": "markdown",
   "metadata": {},
   "source": [
    "### Моделирование игры"
   ]
  },
  {
   "cell_type": "code",
   "execution_count": 34,
   "metadata": {},
   "outputs": [],
   "source": [
    "import numpy as np"
   ]
  },
  {
   "cell_type": "code",
   "execution_count": 38,
   "metadata": {},
   "outputs": [],
   "source": [
    "# Количество игр\n",
    "exp_num = 1000000\n",
    "# Плата за одну игру\n",
    "pay = 1\n",
    "# Суммарный выигрыш\n",
    "win = 0"
   ]
  },
  {
   "cell_type": "code",
   "execution_count": 39,
   "metadata": {},
   "outputs": [
    {
     "name": "stdout",
     "output_type": "stream",
     "text": [
      "Средний выигрыш за игру:  0.797694\n",
      "Средняя прибыль\\убыток за игру:  -0.20230599999999999\n"
     ]
    }
   ],
   "source": [
    "for i in range(exp_num):\n",
    "    number = np.random.randint(1000)\n",
    "    if number == 777:\n",
    "        win += 200\n",
    "    elif  number == 999:\n",
    "        win += 100\n",
    "    elif  number == 555:\n",
    "        win += 50\n",
    "    elif  number == 333:\n",
    "        win += 15\n",
    "    elif  number == 111:\n",
    "        win += 10\n",
    "    elif  number % 100 == 77:\n",
    "        win += 5\n",
    "    elif  number % 10 == 7:\n",
    "        win += 3   \n",
    "    elif  number % 100 == 0:\n",
    "        win += 2\n",
    "    elif  number % 10 == 0:\n",
    "        win += 1\n",
    "print('Средний выигрыш за игру: ', win / exp_num)\n",
    "print('Средняя прибыль\\убыток за игру: ', win / exp_num - pay)"
   ]
  },
  {
   "cell_type": "markdown",
   "metadata": {},
   "source": [
    "Игра не выгодна для игрока, поскольку в среднем он теряет 20 копеек за игру."
   ]
  },
  {
   "cell_type": "markdown",
   "metadata": {},
   "source": [
    "### Расчет теоретического выигрыша и прибыли/убытка"
   ]
  },
  {
   "cell_type": "code",
   "execution_count": 40,
   "metadata": {},
   "outputs": [
    {
     "data": {
      "text/plain": [
       "0.7999999999999999"
      ]
     },
     "execution_count": 40,
     "metadata": {},
     "output_type": "execute_result"
    }
   ],
   "source": [
    "# Теоретический средний выигрыш за одну игру\n",
    "win_per_game = 0.001 * (200 + 100 + 50 + 15 + 10) + 0.009 * 5 + 0.09 * 3 + 0.01 * 2 + 0.09 * 1\n",
    "win_per_game"
   ]
  },
  {
   "cell_type": "code",
   "execution_count": 41,
   "metadata": {},
   "outputs": [
    {
     "data": {
      "text/plain": [
       "-0.20000000000000007"
      ]
     },
     "execution_count": 41,
     "metadata": {},
     "output_type": "execute_result"
    }
   ],
   "source": [
    "# Теоретическая сребняя прибыль/убыток за одну игру\n",
    "gross = win_per_game - pay\n",
    "gross"
   ]
  },
  {
   "cell_type": "code",
   "execution_count": null,
   "metadata": {},
   "outputs": [],
   "source": []
  }
 ],
 "metadata": {
  "kernelspec": {
   "display_name": "Python 3",
   "language": "python",
   "name": "python3"
  },
  "language_info": {
   "codemirror_mode": {
    "name": "ipython",
    "version": 3
   },
   "file_extension": ".py",
   "mimetype": "text/x-python",
   "name": "python",
   "nbconvert_exporter": "python",
   "pygments_lexer": "ipython3",
   "version": "3.8.3"
  }
 },
 "nbformat": 4,
 "nbformat_minor": 4
}
