{
 "cells": [
  {
   "cell_type": "markdown",
   "metadata": {},
   "source": [
    "## Домашнее задание №1 - Линейная алгебра. Матрицы"
   ]
  },
  {
   "cell_type": "markdown",
   "metadata": {},
   "source": [
    "### Задание 1."
   ]
  },
  {
   "cell_type": "markdown",
   "metadata": {},
   "source": [
    "Создайте случайную матрицу $А_1$ размерностью $5$ на $5$. Вычислить транспонированную матрицу $A^T$ и найти обратную матрицу $A^{-1}$\n",
    "Найдите определитель и ранг каждой полученной матрицы."
   ]
  },
  {
   "cell_type": "code",
   "execution_count": 18,
   "metadata": {},
   "outputs": [],
   "source": [
    "import numpy as np"
   ]
  },
  {
   "cell_type": "code",
   "execution_count": 19,
   "metadata": {},
   "outputs": [
    {
     "data": {
      "text/plain": [
       "array([[0.17827648, 0.547574  , 0.41120238, 0.25752278, 0.26420586],\n",
       "       [0.74413348, 0.88522358, 0.85075666, 0.2418282 , 0.18654553],\n",
       "       [0.74471566, 0.37151136, 0.17445932, 0.32363754, 0.60644521],\n",
       "       [0.88560733, 0.68722131, 0.53735184, 0.32261363, 0.74382053],\n",
       "       [0.46252234, 0.1603408 , 0.14501549, 0.88878916, 0.79552314]])"
      ]
     },
     "execution_count": 19,
     "metadata": {},
     "output_type": "execute_result"
    }
   ],
   "source": [
    "A1 = np.random.random((5, 5))\n",
    "A1"
   ]
  },
  {
   "cell_type": "code",
   "execution_count": 20,
   "metadata": {},
   "outputs": [
    {
     "data": {
      "text/plain": [
       "array([[0.17827648, 0.74413348, 0.74471566, 0.88560733, 0.46252234],\n",
       "       [0.547574  , 0.88522358, 0.37151136, 0.68722131, 0.1603408 ],\n",
       "       [0.41120238, 0.85075666, 0.17445932, 0.53735184, 0.14501549],\n",
       "       [0.25752278, 0.2418282 , 0.32363754, 0.32261363, 0.88878916],\n",
       "       [0.26420586, 0.18654553, 0.60644521, 0.74382053, 0.79552314]])"
      ]
     },
     "execution_count": 20,
     "metadata": {},
     "output_type": "execute_result"
    }
   ],
   "source": [
    "T1 = np.transpose(A1)\n",
    "T1"
   ]
  },
  {
   "cell_type": "code",
   "execution_count": 21,
   "metadata": {},
   "outputs": [
    {
     "data": {
      "text/plain": [
       "array([[-1.8887407 ,  1.25051999,  1.96934685, -1.14878468, -0.09311344],\n",
       "       [ 4.60942173, -0.52326034,  5.07539029, -3.9088018 , -1.62248388],\n",
       "       [-3.33622078,  0.74700451, -6.86914726,  5.07783844,  1.42152963],\n",
       "       [ 0.55154301,  1.15189414,  1.69086986, -3.1090815 ,  1.16473937],\n",
       "       [ 0.16103193, -2.04470696, -2.80488775,  4.0036946 ,  0.07776753]])"
      ]
     },
     "execution_count": 21,
     "metadata": {},
     "output_type": "execute_result"
    }
   ],
   "source": [
    "A_1 = np.linalg.inv(A1)\n",
    "A_1"
   ]
  },
  {
   "cell_type": "code",
   "execution_count": 22,
   "metadata": {},
   "outputs": [
    {
     "data": {
      "text/plain": [
       "array([[ 1.00000000e+00,  9.87044057e-17, -3.20610671e-16,\n",
       "         1.03029274e-16, -8.87592579e-18],\n",
       "       [-9.65728589e-17,  1.00000000e+00, -7.41043550e-16,\n",
       "         1.14617535e-17,  8.58058073e-17],\n",
       "       [ 5.53073283e-17,  1.14154015e-16,  1.00000000e+00,\n",
       "         2.00114340e-16, -1.58745554e-16],\n",
       "       [ 4.25744946e-17,  2.54469118e-16, -1.84580279e-16,\n",
       "         1.00000000e+00, -6.21800735e-17],\n",
       "       [ 9.86193197e-17, -1.16858807e-16, -3.13951666e-16,\n",
       "         5.22357555e-16,  1.00000000e+00]])"
      ]
     },
     "execution_count": 22,
     "metadata": {},
     "output_type": "execute_result"
    }
   ],
   "source": [
    "# Проверка:\n",
    "A1@A_1"
   ]
  },
  {
   "cell_type": "code",
   "execution_count": 23,
   "metadata": {},
   "outputs": [
    {
     "data": {
      "text/plain": [
       "(-0.018271696774313798, -0.01827169677431381, -54.729454650637145)"
      ]
     },
     "execution_count": 23,
     "metadata": {},
     "output_type": "execute_result"
    }
   ],
   "source": [
    "# Определители:\n",
    "np.linalg.det(A1), np.linalg.det(T1), np.linalg.det(A_1)"
   ]
  },
  {
   "cell_type": "code",
   "execution_count": 24,
   "metadata": {},
   "outputs": [
    {
     "data": {
      "text/plain": [
       "(5, 5, 5)"
      ]
     },
     "execution_count": 24,
     "metadata": {},
     "output_type": "execute_result"
    }
   ],
   "source": [
    "# Ранги:\n",
    "np.linalg.matrix_rank(A1), np.linalg.matrix_rank(T1), np.linalg.matrix_rank(A_1)"
   ]
  },
  {
   "cell_type": "markdown",
   "metadata": {},
   "source": [
    "### Задание 2."
   ]
  },
  {
   "cell_type": "markdown",
   "metadata": {},
   "source": [
    "Создайте диагональную матрицу, поэлементно перемножив единичную матрицу $I$ и случайную матрицу $A_2$ размерности $6$ на $6$ \n",
    "Найдите определитель и ранг полученной матрицы.   "
   ]
  },
  {
   "cell_type": "code",
   "execution_count": 29,
   "metadata": {},
   "outputs": [
    {
     "data": {
      "text/plain": [
       "array([[0.78024788, 0.        , 0.        , 0.        , 0.        ,\n",
       "        0.        ],\n",
       "       [0.        , 0.38020333, 0.        , 0.        , 0.        ,\n",
       "        0.        ],\n",
       "       [0.        , 0.        , 0.69351415, 0.        , 0.        ,\n",
       "        0.        ],\n",
       "       [0.        , 0.        , 0.        , 0.85938756, 0.        ,\n",
       "        0.        ],\n",
       "       [0.        , 0.        , 0.        , 0.        , 0.53142852,\n",
       "        0.        ],\n",
       "       [0.        , 0.        , 0.        , 0.        , 0.        ,\n",
       "        0.41257181]])"
      ]
     },
     "execution_count": 29,
     "metadata": {},
     "output_type": "execute_result"
    }
   ],
   "source": [
    "D2 = np.eye(6) * np.random.random((6, 6))\n",
    "D2"
   ]
  },
  {
   "cell_type": "code",
   "execution_count": 30,
   "metadata": {},
   "outputs": [
    {
     "data": {
      "text/plain": [
       "0.0387647785979283"
      ]
     },
     "execution_count": 30,
     "metadata": {},
     "output_type": "execute_result"
    }
   ],
   "source": [
    "# Определитель:\n",
    "np.linalg.det(D2)"
   ]
  },
  {
   "cell_type": "code",
   "execution_count": 31,
   "metadata": {},
   "outputs": [
    {
     "data": {
      "text/plain": [
       "6"
      ]
     },
     "execution_count": 31,
     "metadata": {},
     "output_type": "execute_result"
    }
   ],
   "source": [
    "# Ранги:\n",
    "np.linalg.matrix_rank(D2)"
   ]
  },
  {
   "cell_type": "markdown",
   "metadata": {},
   "source": [
    "### Задание 3."
   ]
  },
  {
   "cell_type": "markdown",
   "metadata": {},
   "source": [
    "Далее давайте представим изображения в виде матриц и также определим их свойства. \n",
    "Для первых $10$ цифр (от $0$ до $9$) из тестовой базы рукописных цифр (MNIST) определить какая из этих цифр имеет максимальный ранг?"
   ]
  },
  {
   "cell_type": "code",
   "execution_count": 25,
   "metadata": {},
   "outputs": [],
   "source": [
    "import numpy as np\n",
    "from sklearn.datasets import load_digits\n",
    "import matplotlib.pyplot as plt\n",
    "digits = load_digits()"
   ]
  },
  {
   "cell_type": "code",
   "execution_count": 26,
   "metadata": {},
   "outputs": [
    {
     "data": {
      "text/plain": [
       "<Figure size 432x288 with 0 Axes>"
      ]
     },
     "metadata": {},
     "output_type": "display_data"
    },
    {
     "data": {
      "image/png": "[encoded data removed]",
      "text/plain": [
       "<Figure size 288x288 with 1 Axes>"
      ]
     },
     "metadata": {
      "needs_background": "light"
     },
     "output_type": "display_data"
    }
   ],
   "source": [
    "plt.gray();\n",
    "plt.matshow(digits.images[0]);\n",
    "plt.show()"
   ]
  },
  {
   "cell_type": "code",
   "execution_count": 33,
   "metadata": {},
   "outputs": [
    {
     "data": {
      "text/plain": [
       "array([[ 0.,  0.,  5., 13.,  9.,  1.,  0.,  0.],\n",
       "       [ 0.,  0., 13., 15., 10., 15.,  5.,  0.],\n",
       "       [ 0.,  3., 15.,  2.,  0., 11.,  8.,  0.],\n",
       "       [ 0.,  4., 12.,  0.,  0.,  8.,  8.,  0.],\n",
       "       [ 0.,  5.,  8.,  0.,  0.,  9.,  8.,  0.],\n",
       "       [ 0.,  4., 11.,  0.,  1., 12.,  7.,  0.],\n",
       "       [ 0.,  2., 14.,  5., 10., 12.,  0.,  0.],\n",
       "       [ 0.,  0.,  6., 13., 10.,  0.,  0.,  0.]])"
      ]
     },
     "execution_count": 33,
     "metadata": {},
     "output_type": "execute_result"
    }
   ],
   "source": [
    "matrix = digits.images[0]\n",
    "matrix"
   ]
  },
  {
   "cell_type": "code",
   "execution_count": 38,
   "metadata": {},
   "outputs": [
    {
     "data": {
      "text/plain": [
       "(7, 9)"
      ]
     },
     "execution_count": 38,
     "metadata": {},
     "output_type": "execute_result"
    }
   ],
   "source": [
    "# Максимальный ранг и номер цифры в списке\n",
    "rank = 0\n",
    "num = 0\n",
    "for i in range(10):\n",
    "    matrix = digits.images[i]\n",
    "    if np.linalg.matrix_rank(matrix) > rank:\n",
    "        rank = np.linalg.matrix_rank(matrix)\n",
    "        num = i\n",
    "rank, i"
   ]
  },
  {
   "cell_type": "code",
   "execution_count": 39,
   "metadata": {},
   "outputs": [
    {
     "data": {
      "text/plain": [
       "<Figure size 432x288 with 0 Axes>"
      ]
     },
     "metadata": {},
     "output_type": "display_data"
    },
    {
     "data": {
      "image/png": "[encoded data removed]",
      "text/plain": [
       "<Figure size 288x288 with 1 Axes>"
      ]
     },
     "metadata": {
      "needs_background": "light"
     },
     "output_type": "display_data"
    }
   ],
   "source": [
    "# Изображение искомой цифры\n",
    "plt.gray();\n",
    "plt.matshow(digits.images[i]);\n",
    "plt.show()"
   ]
  },
  {
   "cell_type": "markdown",
   "metadata": {},
   "source": [
    "### Задание 4."
   ]
  },
  {
   "cell_type": "markdown",
   "metadata": {},
   "source": [
    "Для первых $10$ цифр (от $0$ до $9$) из тестовой базы рукописных цифр (MNIST) найдите все собственные числа. Для каких цифр все собственные значения не являются комплексными? Подробнее о комплексных числах можно почитать [здесь](https://ru.wikipedia.org/wiki/%D0%9A%D0%BE%D0%BC%D0%BF%D0%BB%D0%B5%D0%BA%D1%81%D0%BD%D0%BE%D0%B5_%D1%87%D0%B8%D1%81%D0%BB%D0%BE) "
   ]
  },
  {
   "cell_type": "code",
   "execution_count": 51,
   "metadata": {},
   "outputs": [
    {
     "name": "stdout",
     "output_type": "stream",
     "text": [
      "[  0.           0.          38.87795499  -3.63459035  -0.73101\n",
      "   3.91352574   2.68851616 -14.11439655]\n",
      "Нет комплексных чисел \n",
      "\n",
      "[ 0.        +0.j          0.        +0.j          0.        +0.j\n",
      " 43.90876882+0.j         -2.81320584+5.92806111j -2.81320584-5.92806111j\n",
      "  1.35882143+0.32955102j  1.35882143-0.32955102j]\n",
      "Есть комплексные числа \n",
      "\n",
      "[  0.           0.           5.          39.6980372  -18.4455357\n",
      "  -4.77732707   8.20786562   4.31695994]\n",
      "Нет комплексных чисел \n",
      "\n",
      "[ 0.        +0.j          0.        +0.j         26.78722854+0.j\n",
      " -4.6394655 +0.j          0.69927242+0.j         11.54360992+6.68082411j\n",
      " 11.54360992-6.68082411j  9.0657447 +0.j        ]\n",
      "Есть комплексные числа \n",
      "\n",
      "[  0.        +0.j           0.        +0.j\n",
      "  42.31646853+0.j         -16.51428562+0.j\n",
      "   2.74751936+8.20271632j   2.74751936-8.20271632j\n",
      "  -1.03051134+0.j           1.73328971+0.j        ]\n",
      "Есть комплексные числа \n",
      "\n",
      "[ 0.        +0.j          0.        +0.j          0.        +0.j\n",
      " 37.46865411+0.j         19.99538181+0.j         -2.16232674+0.79050023j\n",
      " -2.16232674-0.79050023j  2.86061757+0.j        ]\n",
      "Есть комплексные числа \n",
      "\n",
      "[ 0.          0.          0.         30.23327329 20.52704925 -2.74115196\n",
      "  5.8593327   3.12149672]\n",
      "Нет комплексных чисел \n",
      "\n",
      "[  0.        +0.j           0.        +0.j\n",
      "  38.91161854+0.j         -13.97150918+0.j\n",
      "   6.08033452+0.j          -1.23858742+6.12713731j\n",
      "  -1.23858742-6.12713731j  -5.54326904+0.j        ]\n",
      "Есть комплексные числа \n",
      "\n",
      "[ 0.        +0.j          0.        +0.j         44.56329631+0.j\n",
      " 18.3859097 +0.j         -1.71753054+6.38032702j -1.71753054-6.38032702j\n",
      "  4.59692012+0.j         -2.11106505+0.j        ]\n",
      "Есть комплексные числа \n",
      "\n",
      "[  0.        +0.j           0.        +0.j\n",
      "  40.5091891 +0.j          16.66230149+0.j\n",
      " -12.29208882+0.j          -3.97807147+0.j\n",
      "   0.04933485+4.15644444j   0.04933485-4.15644444j]\n",
      "Есть комплексные числа \n",
      "\n"
     ]
    }
   ],
   "source": [
    "# Собственные значения и проверка на комплексность\n",
    "R = []\n",
    "for j in range(10):\n",
    "    matrix = digits.images[j]\n",
    "    nums = np.linalg.eigvals(matrix)\n",
    "    print(nums)\n",
    "    for num in nums:\n",
    "        c = 0\n",
    "        if complex(num).imag != 0:\n",
    "            print('Есть комплексные числа', '\\n')\n",
    "            c += 1\n",
    "            break\n",
    "    if c == 0:\n",
    "        print('Нет комплексных чисел', '\\n')       \n",
    "        R.append(j)"
   ]
  },
  {
   "cell_type": "code",
   "execution_count": 52,
   "metadata": {},
   "outputs": [
    {
     "data": {
      "text/plain": [
       "[0, 2, 6]"
      ]
     },
     "execution_count": 52,
     "metadata": {},
     "output_type": "execute_result"
    }
   ],
   "source": [
    "# Порядковые номера цифр, матрицы которых не имеют комплексных собственных чисел\n",
    "R"
   ]
  },
  {
   "cell_type": "code",
   "execution_count": null,
   "metadata": {},
   "outputs": [],
   "source": []
  }
 ],
 "metadata": {
  "kernelspec": {
   "display_name": "Python 3",
   "language": "python",
   "name": "python3"
  },
  "language_info": {
   "codemirror_mode": {
    "name": "ipython",
    "version": 3
   },
   "file_extension": ".py",
   "mimetype": "text/x-python",
   "name": "python",
   "nbconvert_exporter": "python",
   "pygments_lexer": "ipython3",
   "version": "3.8.8"
  }
 },
 "nbformat": 4,
 "nbformat_minor": 4
}
