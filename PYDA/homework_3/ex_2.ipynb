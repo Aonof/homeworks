{
 "cells": [
  {
   "cell_type": "code",
   "execution_count": 8,
   "metadata": {
    "scrolled": true
   },
   "outputs": [
    {
     "name": "stdout",
     "output_type": "stream",
     "text": [
      "Поисковых запросов, содержащих 2 слов(а): 42.86 %\n",
      "Поисковых запросов, содержащих 3 слов(а): 57.14 %\n"
     ]
    }
   ],
   "source": [
    "queries = [\n",
    "    'смотреть сериалы онлайн',\n",
    "    'новости спорта',\n",
    "    'афиша кино',\n",
    "    'курс доллара',\n",
    "    'сериалы этим летом',\n",
    "    'курс по питону',\n",
    "    'сериалы про спорт',\n",
    "]\n",
    "\n",
    "length = []\n",
    "for item in queries:\n",
    "    length.append(len(item.split(' ')))\n",
    "for i in range(max(length) + 1):\n",
    "    if i in length:\n",
    "        print('Поисковых запросов, содержащих', i, 'слов(а):', round(100 * length.count(i) / len(length), 2), '%')"
   ]
  },
  {
   "cell_type": "markdown",
   "metadata": {},
   "source": [
    "Для интереса два варианта со словарем"
   ]
  },
  {
   "cell_type": "code",
   "execution_count": 24,
   "metadata": {},
   "outputs": [
    {
     "name": "stdout",
     "output_type": "stream",
     "text": [
      "Поисковых запросов, содержащих 2 слов(а): 42.86 %\n",
      "Поисковых запросов, содержащих 3 слов(а): 57.14 %\n"
     ]
    }
   ],
   "source": [
    "length_1 = []\n",
    "for item in queries:\n",
    "    length_1.append(len(item.split(' ')))\n",
    "length_1 = sorted(length_1)\n",
    "dict_1 = {number : length_1.count(number) for number in length_1}\n",
    "for key in dict_1:\n",
    "    print('Поисковых запросов, содержащих', key, 'слов(а):', round(100 * dict_1[key] / len(length_1), 2), '%')"
   ]
  },
  {
   "cell_type": "code",
   "execution_count": 22,
   "metadata": {},
   "outputs": [
    {
     "name": "stdout",
     "output_type": "stream",
     "text": [
      "Поисковых запросов, содержащих 3 слов(а): 57.14 %\n",
      "Поисковых запросов, содержащих 2 слов(а): 42.86 %\n"
     ]
    }
   ],
   "source": [
    "dict_1 = {}\n",
    "for item in queries:\n",
    "    length_1 = len(item.split(' '))\n",
    "    if length_1 not in dict_1:\n",
    "        dict_1[length_1] = 1\n",
    "    else:    \n",
    "        dict_1[length_1] += 1\n",
    "for key in dict_1:\n",
    "    print('Поисковых запросов, содержащих', key, 'слов(а):', round(100 * dict_1[key] / len(queries), 2), '%')"
   ]
  },
  {
   "cell_type": "code",
   "execution_count": null,
   "metadata": {},
   "outputs": [],
   "source": []
  }
 ],
 "metadata": {
  "kernelspec": {
   "display_name": "Python 3",
   "language": "python",
   "name": "python3"
  },
  "language_info": {
   "codemirror_mode": {
    "name": "ipython",
    "version": 3
   },
   "file_extension": ".py",
   "mimetype": "text/x-python",
   "name": "python",
   "nbconvert_exporter": "python",
   "pygments_lexer": "ipython3",
   "version": "3.8.3"
  }
 },
 "nbformat": 4,
 "nbformat_minor": 4
}
