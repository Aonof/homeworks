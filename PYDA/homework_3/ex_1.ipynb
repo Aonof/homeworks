{
 "cells": [
  {
   "cell_type": "code",
   "execution_count": 28,
   "metadata": {},
   "outputs": [
    {
     "name": "stdout",
     "output_type": "stream",
     "text": [
      "{98, 35, 15, 213, 54, 119}\n"
     ]
    }
   ],
   "source": [
    "ids = {'user1': [213, 213, 213, 15, 213], \n",
    "       'user2': [54, 54, 119, 119, 119], \n",
    "       'user3': [213, 98, 98, 35]}\n",
    "\n",
    "original_set = set()\n",
    "for key in ids:\n",
    "    original_set.update(ids[key])\n",
    "print(original_set)    "
   ]
  },
  {
   "cell_type": "code",
   "execution_count": 31,
   "metadata": {},
   "outputs": [
    {
     "name": "stdout",
     "output_type": "stream",
     "text": [
      "{98, 35, 15, 213, 54, 119}\n"
     ]
    }
   ],
   "source": [
    "print(set(sum([ids[key] for key in ids], [])))"
   ]
  },
  {
   "cell_type": "code",
   "execution_count": null,
   "metadata": {},
   "outputs": [],
   "source": []
  }
 ],
 "metadata": {
  "kernelspec": {
   "display_name": "Python 3",
   "language": "python",
   "name": "python3"
  },
  "language_info": {
   "codemirror_mode": {
    "name": "ipython",
    "version": 3
   },
   "file_extension": ".py",
   "mimetype": "text/x-python",
   "name": "python",
   "nbconvert_exporter": "python",
   "pygments_lexer": "ipython3",
   "version": "3.8.3"
  }
 },
 "nbformat": 4,
 "nbformat_minor": 4
}
