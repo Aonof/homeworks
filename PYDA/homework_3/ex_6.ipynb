{
 "cells": [
  {
   "cell_type": "markdown",
   "metadata": {},
   "source": [
    "# Решение 1 (со списками)"
   ]
  },
  {
   "cell_type": "code",
   "execution_count": 56,
   "metadata": {},
   "outputs": [
    {
     "name": "stdout",
     "output_type": "stream",
     "text": [
      "Введите количество порций: 3\n",
      "НЕОБХОДИМЫЕ ИНГРИДИЕНТЫ:\n",
      "Сыр : 210 гр\n",
      "Томаты : 6 шт\n",
      "Огурцы : 60 гр\n",
      "Маслины : 30 гр\n",
      "Оливковое масло : 60 мл\n",
      "Салат : 30 гр\n",
      "Перец : 60 гр\n",
      "Колбаса : 90 гр\n",
      "Бекон : 90 гр\n",
      "Оливки : 30 гр\n",
      "Томаты : 60 гр\n",
      "Тесто : 300 гр\n",
      "Лимон : 3 шт\n",
      "Вода : 600 мл\n",
      "Сахар : 30 гр\n",
      "Лайм : 60 гр\n"
     ]
    }
   ],
   "source": [
    "cook_book = {\n",
    "  'салат': [\n",
    "     {'ingridient_name': 'сыр', 'quantity': 50, 'measure': 'гр'},\n",
    "     {'ingridient_name': 'томаты', 'quantity': 2, 'measure': 'шт'},\n",
    "     {'ingridient_name': 'огурцы', 'quantity': 20, 'measure': 'гр'},\n",
    "     {'ingridient_name': 'маслины', 'quantity': 10, 'measure': 'гр'},\n",
    "     {'ingridient_name': 'оливковое масло', 'quantity': 20, 'measure': 'мл'},\n",
    "     {'ingridient_name': 'салат', 'quantity': 10, 'measure': 'гр'},\n",
    "     {'ingridient_name': 'перец', 'quantity': 20, 'measure': 'гр'}\n",
    "    ],\n",
    "  'пицца': [\n",
    "     {'ingridient_name': 'сыр', 'quantity': 20, 'measure': 'гр'},\n",
    "     {'ingridient_name': 'колбаса', 'quantity': 30, 'measure': 'гр'},\n",
    "     {'ingridient_name': 'бекон', 'quantity': 30, 'measure': 'гр'},\n",
    "     {'ingridient_name': 'оливки', 'quantity': 10, 'measure': 'гр'},\n",
    "     {'ingridient_name': 'томаты', 'quantity': 20, 'measure': 'гр'},\n",
    "     {'ingridient_name': 'тесто', 'quantity': 100, 'measure': 'гр'},   \n",
    "    ],\n",
    "  'лимонад': [\n",
    "     {'ingridient_name': 'лимон', 'quantity': 1, 'measure': 'шт'},\n",
    "     {'ingridient_name': 'вода', 'quantity': 200, 'measure': 'мл'},\n",
    "     {'ingridient_name': 'сахар', 'quantity': 10, 'measure': 'гр'},\n",
    "     {'ingridient_name': 'лайм', 'quantity': 20, 'measure': 'гр'},    \n",
    "    ]\n",
    "}\n",
    "\n",
    "num = int(input('Введите количество порций: '))\n",
    "print('НЕОБХОДИМЫЕ ИНГРИДИЕНТЫ:')\n",
    "product_list = []\n",
    "for food in cook_book.values():\n",
    "    product_list += food\n",
    "ingridient_and_measure = []\n",
    "quantity = []\n",
    "for product in product_list:\n",
    "    ingr = [product['ingridient_name'], product['measure']]\n",
    "    quant = num * product['quantity']\n",
    "    if ingr not in ingridient_and_measure:\n",
    "        ingridient_and_measure.append(ingr)\n",
    "        quantity.append(quant)\n",
    "    else:\n",
    "        quantity[ingridient_and_measure.index(ingr)] += quant \n",
    "for i in range(len(ingridient_and_measure)):\n",
    "    print(ingridient_and_measure[i][0].capitalize(), ':', quantity[i], ingridient_and_measure[i][1])"
   ]
  },
  {
   "cell_type": "markdown",
   "metadata": {},
   "source": [
    "# Решение 2 (со словарем)"
   ]
  },
  {
   "cell_type": "code",
   "execution_count": 41,
   "metadata": {},
   "outputs": [
    {
     "name": "stdout",
     "output_type": "stream",
     "text": [
      "Введите количество порций: 3\n",
      "НЕОБХОДИМЫЕ ИНГРИДИЕНТЫ:\n",
      "Сыр : 210 гр\n",
      "Томаты : 6 шт\n",
      "Томаты : 60 гр\n",
      "Огурцы : 60 гр\n",
      "Маслины : 30 гр\n",
      "Оливковое масло : 60 мл\n",
      "Салат : 30 гр\n",
      "Перец : 60 гр\n",
      "Колбаса : 90 гр\n",
      "Бекон : 90 гр\n",
      "Оливки : 30 гр\n",
      "Тесто : 300 гр\n",
      "Лимон : 3 шт\n",
      "Вода : 600 мл\n",
      "Сахар : 30 гр\n",
      "Лайм : 60 гр\n"
     ]
    }
   ],
   "source": [
    "cook_book = {\n",
    "  'салат': [\n",
    "     {'ingridient_name': 'сыр', 'quantity': 50, 'measure': 'гр'},\n",
    "     {'ingridient_name': 'томаты', 'quantity': 2, 'measure': 'шт'},\n",
    "     {'ingridient_name': 'огурцы', 'quantity': 20, 'measure': 'гр'},\n",
    "     {'ingridient_name': 'маслины', 'quantity': 10, 'measure': 'гр'},\n",
    "     {'ingridient_name': 'оливковое масло', 'quantity': 20, 'measure': 'мл'},\n",
    "     {'ingridient_name': 'салат', 'quantity': 10, 'measure': 'гр'},\n",
    "     {'ingridient_name': 'перец', 'quantity': 20, 'measure': 'гр'}\n",
    "    ],\n",
    "  'пицца': [\n",
    "     {'ingridient_name': 'сыр', 'quantity': 20, 'measure': 'гр'},\n",
    "     {'ingridient_name': 'колбаса', 'quantity': 30, 'measure': 'гр'},\n",
    "     {'ingridient_name': 'бекон', 'quantity': 30, 'measure': 'гр'},\n",
    "     {'ingridient_name': 'оливки', 'quantity': 10, 'measure': 'гр'},\n",
    "     {'ingridient_name': 'томаты', 'quantity': 20, 'measure': 'гр'},\n",
    "     {'ingridient_name': 'тесто', 'quantity': 100, 'measure': 'гр'},   \n",
    "    ],\n",
    "  'лимонад': [\n",
    "     {'ingridient_name': 'лимон', 'quantity': 1, 'measure': 'шт'},\n",
    "     {'ingridient_name': 'вода', 'quantity': 200, 'measure': 'мл'},\n",
    "     {'ingridient_name': 'сахар', 'quantity': 10, 'measure': 'гр'},\n",
    "     {'ingridient_name': 'лайм', 'quantity': 20, 'measure': 'гр'},    \n",
    "    ]\n",
    "}\n",
    "\n",
    "num = int(input('Введите количество порций: '))\n",
    "print('НЕОБХОДИМЫЕ ИНГРИДИЕНТЫ:')\n",
    "products = []\n",
    "for food in cook_book.values():\n",
    "    products += food\n",
    "measure = {}\n",
    "for product in products:\n",
    "    if product['ingridient_name'] not in measure:\n",
    "        measure[product['ingridient_name']] = [num * product['quantity'], product['measure']]\n",
    "    else:\n",
    "        if measure[product['ingridient_name']][1] == product['measure']:\n",
    "            measure[product['ingridient_name']][0] += num * product['quantity']\n",
    "        else:\n",
    "            measure[product['ingridient_name']].append(num * product['quantity'])  \n",
    "            measure[product['ingridient_name']].append(product['measure'])\n",
    "for key, value in measure.items():\n",
    "    for i in range(len(value)):\n",
    "        if i % 2 == 0: \n",
    "            print (key.capitalize(), ':', value[i], value[i + 1])"
   ]
  },
  {
   "cell_type": "code",
   "execution_count": null,
   "metadata": {},
   "outputs": [],
   "source": []
  }
 ],
 "metadata": {
  "kernelspec": {
   "display_name": "Python 3",
   "language": "python",
   "name": "python3"
  },
  "language_info": {
   "codemirror_mode": {
    "name": "ipython",
    "version": 3
   },
   "file_extension": ".py",
   "mimetype": "text/x-python",
   "name": "python",
   "nbconvert_exporter": "python",
   "pygments_lexer": "ipython3",
   "version": "3.8.3"
  }
 },
 "nbformat": 4,
 "nbformat_minor": 4
}
