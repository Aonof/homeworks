{
 "cells": [
  {
   "cell_type": "code",
   "execution_count": 10,
   "metadata": {},
   "outputs": [
    {
     "data": {
      "text/plain": [
       "'XDR'"
      ]
     },
     "execution_count": 10,
     "metadata": {},
     "output_type": "execute_result"
    }
   ],
   "source": [
    "import requests\n",
    "\n",
    "\n",
    "def max_rate():\n",
    "    \"\"\"\n",
    "    Возвращает название валюты с максимальным курсом\n",
    "    \"\"\"\n",
    "    r = requests.get('https://www.cbr-xml-daily.ru/daily_json.js')\n",
    "    currency_dict = r.json()['Valute']\n",
    "    currency = ''\n",
    "    max_rate = 0\n",
    "    for value in currency_dict.values():\n",
    "        rate = float(value['Value'])\n",
    "        if rate > max_rate:\n",
    "            max_rate = rate\n",
    "            currency = value['CharCode']\n",
    "    return currency\n",
    "\n",
    "\n",
    "max_rate()"
   ]
  },
  {
   "cell_type": "code",
   "execution_count": null,
   "metadata": {},
   "outputs": [],
   "source": []
  }
 ],
 "metadata": {
  "kernelspec": {
   "display_name": "Python 3",
   "language": "python",
   "name": "python3"
  },
  "language_info": {
   "codemirror_mode": {
    "name": "ipython",
    "version": 3
   },
   "file_extension": ".py",
   "mimetype": "text/x-python",
   "name": "python",
   "nbconvert_exporter": "python",
   "pygments_lexer": "ipython3",
   "version": "3.8.3"
  }
 },
 "nbformat": 4,
 "nbformat_minor": 4
}
