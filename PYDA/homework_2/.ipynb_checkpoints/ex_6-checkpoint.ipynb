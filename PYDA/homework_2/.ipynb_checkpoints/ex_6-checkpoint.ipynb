{
 "cells": [
  {
   "cell_type": "code",
   "execution_count": 15,
   "metadata": {},
   "outputs": [
    {
     "name": "stdout",
     "output_type": "stream",
     "text": [
      "Введите числа:\n",
      "10 15 15 103 200 200 200 1 1 1 1 1 2 2 2\n",
      "1\n",
      "2\n",
      "15\n",
      "200\n"
     ]
    }
   ],
   "source": [
    "print ('Введите числа:')\n",
    "input_numbers = str(input()).split(' ')\n",
    "numbers = []\n",
    "recurring_numbers = []\n",
    "for number in input_numbers:\n",
    "    numbers.append(int(number))\n",
    "for number in numbers:    \n",
    "    if numbers.count(number) > 1 and number not in recurring_numbers:\n",
    "        recurring_numbers.append(number)\n",
    "recurring_numbers = sorted(recurring_numbers)\n",
    "for number in recurring_numbers:\n",
    "    print(number)"
   ]
  },
  {
   "cell_type": "code",
   "execution_count": null,
   "metadata": {},
   "outputs": [],
   "source": []
  }
 ],
 "metadata": {
  "kernelspec": {
   "display_name": "Python 3",
   "language": "python",
   "name": "python3"
  },
  "language_info": {
   "codemirror_mode": {
    "name": "ipython",
    "version": 3
   },
   "file_extension": ".py",
   "mimetype": "text/x-python",
   "name": "python",
   "nbconvert_exporter": "python",
   "pygments_lexer": "ipython3",
   "version": "3.8.3"
  }
 },
 "nbformat": 4,
 "nbformat_minor": 4
}
