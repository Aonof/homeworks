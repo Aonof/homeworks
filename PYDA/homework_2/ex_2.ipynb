{
 "cells": [
  {
   "cell_type": "code",
   "execution_count": 10,
   "metadata": {},
   "outputs": [
    {
     "name": "stdout",
     "output_type": "stream",
     "text": [
      "Введите число:\n",
      "1\n",
      "Введите число:\n",
      "2\n",
      "Введите число:\n",
      "3\n",
      "Введите число:\n",
      "4\n",
      "Введите число:\n",
      "5\n",
      "Введите число:\n",
      "0\n",
      "Сумма чисел равна: 15\n"
     ]
    }
   ],
   "source": [
    "number = 1\n",
    "numbers_sum = 0\n",
    "while number != 0:\n",
    "    print ('Введите число:')\n",
    "    number = int(input())\n",
    "    numbers_sum += number \n",
    "print ('Сумма чисел равна:', numbers_sum)"
   ]
  },
  {
   "cell_type": "code",
   "execution_count": null,
   "metadata": {},
   "outputs": [],
   "source": []
  }
 ],
 "metadata": {
  "kernelspec": {
   "display_name": "Python 3",
   "language": "python",
   "name": "python3"
  },
  "language_info": {
   "codemirror_mode": {
    "name": "ipython",
    "version": 3
   },
   "file_extension": ".py",
   "mimetype": "text/x-python",
   "name": "python",
   "nbconvert_exporter": "python",
   "pygments_lexer": "ipython3",
   "version": "3.8.3"
  }
 },
 "nbformat": 4,
 "nbformat_minor": 4
}
