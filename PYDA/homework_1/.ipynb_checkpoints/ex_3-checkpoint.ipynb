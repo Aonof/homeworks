{
 "cells": [
  {
   "cell_type": "code",
   "execution_count": 1,
   "metadata": {},
   "outputs": [
    {
     "name": "stdout",
     "output_type": "stream",
     "text": [
      "Введите день:\n",
      "30\n",
      "Введите месяц:\n",
      "Август\n",
      "Ваш знак зодиака: Дева\n"
     ]
    }
   ],
   "source": [
    "print ('Введите день:')\n",
    "day = int(input())\n",
    "print ('Введите месяц:')\n",
    "month = str(input())\n",
    "\n",
    "if month == 'Март' and day >= 21 or month == 'Апрель' and day <= 20:\n",
    "    print ('Ваш знак зодиака: Овен')\n",
    "elif month == 'Апрель' and day >= 21 or month == 'Май' and day <= 20:\n",
    "    print ('Ваш знак зодиака: Телец')\n",
    "elif month == 'Май' and day >= 21 or month == 'Июнь' and day <= 21:\n",
    "    print ('Ваш знак зодиака: Близнецы')\n",
    "elif month == 'Июнь' and day >= 22 or month == 'Июль' and day <= 22:\n",
    "    print ('Ваш знак зодиака: Рак')\n",
    "elif month == 'Июль' and day >= 23 or month == 'Август' and day <= 23:\n",
    "    print ('Ваш знак зодиака: Лев')\n",
    "elif month == 'Август' and day >= 24 or month == 'Сентябрь' and day <= 23:\n",
    "    print ('Ваш знак зодиака: Дева')\n",
    "elif month == 'Сентябрь' and day >= 24 or month == 'Октябрь' and day <= 23:\n",
    "    print ('Ваш знак зодиака: Весы')\n",
    "elif month == 'Октябрь' and day >= 24 or month == 'Ноябрь' and day <= 22:\n",
    "    print ('Ваш знак зодиака: Скорпион')\n",
    "elif month == 'Ноябрь' and day >= 23 or month == 'Декабрь' and day <= 21:\n",
    "    print ('Ваш знак зодиака: Стрелец')\n",
    "elif month == 'Декабрь' and day >= 22 or month == 'Январь' and day <= 20:\n",
    "    print ('Ваш знак зодиака: Козерог')\n",
    "elif month == 'Январь' and day >= 21 or month == 'Февраль' and day <= 18:\n",
    "    print ('Ваш знак зодиака: Водолей')\n",
    "elif month == 'Февраль' and day >= 19 or month == 'Март' and day <= 20:\n",
    "    print ('Ваш знак зодиака: Рыбы')"
   ]
  },
  {
   "cell_type": "code",
   "execution_count": 8,
   "metadata": {},
   "outputs": [
    {
     "name": "stdout",
     "output_type": "stream",
     "text": [
      "Введите день:\n",
      "29\n",
      "Введите месяц:\n",
      "Октябрь\n",
      "Ваш знак зодиака: Скорпион\n"
     ]
    }
   ],
   "source": [
    "print ('Введите день:')\n",
    "day = int(input())\n",
    "print ('Введите месяц:')\n",
    "month = str(input())\n",
    "\n",
    "if month == 'Март' and day >= 21 or month == 'Апрель' and day <= 20:\n",
    "    print ('Ваш знак зодиака: Овен')\n",
    "elif month == 'Апрель' and day >= 21 or month == 'Май' and day <= 20:\n",
    "    print ('Ваш знак зодиака: Телец')\n",
    "elif month == 'Май' and day >= 21 or month == 'Июнь' and day <= 21:\n",
    "    print ('Ваш знак зодиака: Близнецы')\n",
    "elif month == 'Июнь' and day >= 22 or month == 'Июль' and day <= 22:\n",
    "    print ('Ваш знак зодиака: Рак')\n",
    "elif month == 'Июль' and day >= 23 or month == 'Август' and day <= 23:\n",
    "    print ('Ваш знак зодиака: Лев')\n",
    "elif month == 'Август' and day >= 24 or month == 'Сентябрь' and day <= 23:\n",
    "    print ('Ваш знак зодиака: Дева')\n",
    "elif month == 'Сентябрь' and day >= 24 or month == 'Октябрь' and day <= 23:\n",
    "    print ('Ваш знак зодиака: Весы')\n",
    "elif month == 'Октябрь' and day >= 24 or month == 'Ноябрь' and day <= 22:\n",
    "    print ('Ваш знак зодиака: Скорпион')\n",
    "elif month == 'Ноябрь' and day >= 23 or month == 'Декабрь' and day <= 21:\n",
    "    print ('Ваш знак зодиака: Стрелец')\n",
    "elif month == 'Декабрь' and day >= 22 or month == 'Январь' and day <= 20:\n",
    "    print ('Ваш знак зодиака: Козерог')\n",
    "elif month == 'Январь' and day >= 21 or month == 'Февраль' and day <= 18:\n",
    "    print ('Ваш знак зодиака: Водолей')\n",
    "elif month == 'Февраль' and day >= 19 or month == 'Март' and day <= 20:\n",
    "    print ('Ваш знак зодиака: Рыбы')"
   ]
  },
  {
   "cell_type": "code",
   "execution_count": null,
   "metadata": {},
   "outputs": [],
   "source": []
  }
 ],
 "metadata": {
  "kernelspec": {
   "display_name": "Python 3",
   "language": "python",
   "name": "python3"
  },
  "language_info": {
   "codemirror_mode": {
    "name": "ipython",
    "version": 3
   },
   "file_extension": ".py",
   "mimetype": "text/x-python",
   "name": "python",
   "nbconvert_exporter": "python",
   "pygments_lexer": "ipython3",
   "version": "3.8.3"
  }
 },
 "nbformat": 4,
 "nbformat_minor": 4
}
