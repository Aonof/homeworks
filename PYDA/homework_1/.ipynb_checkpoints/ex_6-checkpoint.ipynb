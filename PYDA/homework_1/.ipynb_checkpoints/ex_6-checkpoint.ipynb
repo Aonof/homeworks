{
 "cells": [
  {
   "cell_type": "code",
   "execution_count": 2,
   "metadata": {},
   "outputs": [
    {
     "name": "stdout",
     "output_type": "stream",
     "text": [
      "Введите тип фигуры:\n",
      "Круг\n",
      "Введите радиус круга:\n",
      "10\n",
      "Площадь круга:  314.16\n"
     ]
    }
   ],
   "source": [
    "print ('Введите тип фигуры:')\n",
    "figure = str(input())\n",
    "\n",
    "if figure == 'Круг':\n",
    "    print ('Введите радиус круга:')\n",
    "    r = int(input())\n",
    "    square = 3.1416 * r * r \n",
    "    print ('Площадь круга: ', square)\n",
    "    \n",
    "elif figure == 'Треугольник':\n",
    "    print ('Введите длину стороны А:')\n",
    "    a = int(input())\n",
    "    print ('Введите длину стороны B:')\n",
    "    b = int(input())\n",
    "    print ('Введите длину стороны C:')\n",
    "    c = int(input())\n",
    "    p = (a + b + c) / 2\n",
    "    square = ( p * (p - a) * (p - b) * (p - c) ) ** 0.5   \n",
    "    print ('Площадь треугольника:', square)\n",
    "    \n",
    "elif figure == 'Прямоугольник':\n",
    "    print ('Введите длину стороны А:')\n",
    "    a = int(input())\n",
    "    print ('Введите длину стороны B:')\n",
    "    b = int(input())\n",
    "    square = a * b\n",
    "    print ('Площадь прямоугольника:', square)"
   ]
  },
  {
   "cell_type": "code",
   "execution_count": 4,
   "metadata": {},
   "outputs": [
    {
     "name": "stdout",
     "output_type": "stream",
     "text": [
      "Введите тип фигуры:\n",
      "Треугольник\n",
      "Введите длину стороны А:\n",
      "2\n",
      "Введите длину стороны B:\n",
      "2\n",
      "Введите длину стороны C:\n",
      "3\n",
      "Площадь треугольника: 1.984313483298443\n"
     ]
    }
   ],
   "source": [
    "print ('Введите тип фигуры:')\n",
    "figure = str(input())\n",
    "\n",
    "if figure == 'Круг':\n",
    "    print ('Введите радиус круга:')\n",
    "    r = int(input())\n",
    "    square = 3.1416 * r * r \n",
    "    print ('Площадь круга: ', square)\n",
    "    \n",
    "elif figure == 'Треугольник':\n",
    "    print ('Введите длину стороны А:')\n",
    "    a = int(input())\n",
    "    print ('Введите длину стороны B:')\n",
    "    b = int(input())\n",
    "    print ('Введите длину стороны C:')\n",
    "    c = int(input())\n",
    "    p = (a + b + c) / 2\n",
    "    square = ( p * (p - a) * (p - b) * (p - c) ) ** 0.5   \n",
    "    print ('Площадь треугольника:', square)\n",
    "    \n",
    "elif figure == 'Прямоугольник':\n",
    "    print ('Введите длину стороны А:')\n",
    "    a = int(input())\n",
    "    print ('Введите длину стороны B:')\n",
    "    b = int(input())\n",
    "    square = a * b\n",
    "    print ('Площадь прямоугольника:', square)"
   ]
  },
  {
   "cell_type": "code",
   "execution_count": 6,
   "metadata": {},
   "outputs": [
    {
     "name": "stdout",
     "output_type": "stream",
     "text": [
      "Введите тип фигуры:\n",
      "Прямоугольник\n",
      "Введите длину стороны А:\n",
      "5\n",
      "Введите длину стороны B:\n",
      "5\n",
      "Площадь прямоугольника: 25\n"
     ]
    }
   ],
   "source": [
    "print ('Введите тип фигуры:')\n",
    "figure = str(input())\n",
    "\n",
    "if figure == 'Круг':\n",
    "    print ('Введите радиус круга:')\n",
    "    r = int(input())\n",
    "    square = 3.1416 * r * r \n",
    "    print ('Площадь круга: ', square)\n",
    "    \n",
    "elif figure == 'Треугольник':\n",
    "    print ('Введите длину стороны А:')\n",
    "    a = int(input())\n",
    "    print ('Введите длину стороны B:')\n",
    "    b = int(input())\n",
    "    print ('Введите длину стороны C:')\n",
    "    c = int(input())\n",
    "    p = (a + b + c) / 2\n",
    "    square = ( p * (p - a) * (p - b) * (p - c) ) ** 0.5   \n",
    "    print ('Площадь треугольника:', square)\n",
    "    \n",
    "elif figure == 'Прямоугольник':\n",
    "    print ('Введите длину стороны А:')\n",
    "    a = int(input())\n",
    "    print ('Введите длину стороны B:')\n",
    "    b = int(input())\n",
    "    square = a * b\n",
    "    print ('Площадь прямоугольника:', square)"
   ]
  },
  {
   "cell_type": "code",
   "execution_count": null,
   "metadata": {},
   "outputs": [],
   "source": []
  }
 ],
 "metadata": {
  "kernelspec": {
   "display_name": "Python 3",
   "language": "python",
   "name": "python3"
  },
  "language_info": {
   "codemirror_mode": {
    "name": "ipython",
    "version": 3
   },
   "file_extension": ".py",
   "mimetype": "text/x-python",
   "name": "python",
   "nbconvert_exporter": "python",
   "pygments_lexer": "ipython3",
   "version": "3.8.3"
  }
 },
 "nbformat": 4,
 "nbformat_minor": 4
}
